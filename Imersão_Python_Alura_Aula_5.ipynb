{
  "nbformat": 4,
  "nbformat_minor": 0,
  "metadata": {
    "colab": {
      "provenance": []
    },
    "kernelspec": {
      "name": "python3",
      "display_name": "Python 3"
    },
    "language_info": {
      "name": "python"
    }
  },
  "cells": [
    {
      "cell_type": "code",
      "execution_count": null,
      "metadata": {
        "id": "ghQyfqUL1r3-"
      },
      "outputs": [],
      "source": [
        "import pandas as pd\n",
        "import yfinance as yf\n",
        "import matplotlib.pyplot as plt\n",
        "from prophet import Prophet"
      ]
    },
    {
      "cell_type": "code",
      "source": [
        "# Baixar dados dos últimos quatro anos para uma ação específica\n",
        "dados = yf.download(\"JNJ\", start=\"2020-01-01\", end=\"2023-12-31\", progress=False)\n",
        "dados = dados.reset_index()"
      ],
      "metadata": {
        "id": "rD-XVV0EF3CQ"
      },
      "execution_count": null,
      "outputs": []
    },
    {
      "cell_type": "code",
      "source": [
        "# Vamos dividir os dados em treino (até o final do primeiro semestre de 2023) e teste (segundo semestre de 2023)\n",
        "dados_treino = dados[dados['Date'] < '2023-07-31']\n",
        "dados_teste = dados[dados['Date'] >= '2023-07-31']"
      ],
      "metadata": {
        "id": "RvjIZCF0F_uh"
      },
      "execution_count": null,
      "outputs": []
    },
    {
      "cell_type": "code",
      "source": [
        "# Preparando os dados para o FBProphet\n",
        "dados_prophet_treino = dados_treino[['Date', 'Close']].rename(columns={'Date': 'ds', 'Close': 'y'})"
      ],
      "metadata": {
        "id": "w6mUsyLAGBaV"
      },
      "execution_count": null,
      "outputs": []
    },
    {
      "cell_type": "code",
      "source": [
        "# Criar e treinar o modelo\n",
        "modelo = Prophet(weekly_seasonality=True,\n",
        "        yearly_seasonality=True,\n",
        "        daily_seasonality=False)\n",
        "\n",
        "modelo.add_country_holidays(country_name='US')\n",
        "\n",
        "modelo.fit(dados_prophet_treino)"
      ],
      "metadata": {
        "id": "i3G2DSHRGDOO"
      },
      "execution_count": null,
      "outputs": []
    },
    {
      "cell_type": "code",
      "source": [
        "# Criar datas futuras para previsão até o final de 2023\n",
        "futuro = modelo.make_future_dataframe(periods=150)\n",
        "previsao = modelo.predict(futuro)"
      ],
      "metadata": {
        "id": "DWgKvoFMGFhG"
      },
      "execution_count": null,
      "outputs": []
    },
    {
      "cell_type": "code",
      "source": [
        "# Plotar os dados de treino, teste e previsões\n",
        "plt.figure(figsize=(14, 8))\n",
        "plt.plot(dados_treino['Date'], dados_treino['Close'], label='Dados de Treino', color='blue')\n",
        "plt.plot(dados_teste['Date'], dados_teste['Close'], label='Dados Reais (Teste)', color='green')\n",
        "plt.plot(previsao['ds'], previsao['yhat'], label='Previsão', color='orange', linestyle='--')\n",
        "\n",
        "plt.axvline(dados_treino['Date'].max(), color='red', linestyle='--', label='Início da Previsão')\n",
        "plt.xlabel('Data')\n",
        "plt.ylabel('Preço de Fechamento')\n",
        "plt.title('Previsão de Preço de Fechamento vs Dados Reais')\n",
        "plt.legend()\n",
        "plt.show()"
      ],
      "metadata": {
        "id": "WDAdpJN7GKDu"
      },
      "execution_count": null,
      "outputs": []
    }
  ]
}